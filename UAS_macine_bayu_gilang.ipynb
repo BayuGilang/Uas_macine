{
 "cells": [
  {
   "cell_type": "code",
   "execution_count": 1,
   "id": "058b47e9",
   "metadata": {},
   "outputs": [
    {
     "name": "stderr",
     "output_type": "stream",
     "text": [
      "C:\\Users\\ASUS\\anaconda3\\Lib\\site-packages\\paramiko\\transport.py:219: CryptographyDeprecationWarning: Blowfish has been deprecated\n",
      "  \"class\": algorithms.Blowfish,\n"
     ]
    }
   ],
   "source": [
    "import matplotlib.pyplot as plt\n",
    "from skimage.feature import hog\n",
    "from sklearn import datasets\n",
    "from mlxtend.data import loadlocal_mnist\n",
    "from sklearn.neural_network import MLPClassifier\n",
    "import numpy as np\n",
    "from sklearn.svm import SVC\n",
    "from sklearn import metrics\n",
    "from mlxtend.plotting import plot_confusion_matrix"
   ]
  },
  {
   "cell_type": "markdown",
   "id": "5f72920a",
   "metadata": {},
   "source": [
    "# 1.Load Image Dataset"
   ]
  },
  {
   "cell_type": "code",
   "execution_count": 2,
   "id": "f1a150da",
   "metadata": {},
   "outputs": [],
   "source": [
    "images_path = 'C:/Users/ASUS/UAS/train-images.idx3-ubyte'\n",
    "labels_path = 'C:/Users/ASUS/UAS/train-labels.idx1-ubyte'\n",
    "train_images, train_labels = loadlocal_mnist(images_path=images_path, labels_path=labels_path)"
   ]
  },
  {
   "cell_type": "code",
   "execution_count": 3,
   "id": "cf2099be",
   "metadata": {},
   "outputs": [],
   "source": [
    "images_path = 'C:/Users/ASUS/UAS/t10k-images.idx3-ubyte'\n",
    "labels_path = 'C:/Users/ASUS/UAS/t10k-labels.idx1-ubyte'\n",
    "test_images, test_labels = loadlocal_mnist(images_path=images_path, labels_path=labels_path)"
   ]
  },
  {
   "cell_type": "code",
   "execution_count": 32,
   "id": "98be7cf6",
   "metadata": {},
   "outputs": [
    {
     "data": {
      "text/plain": [
       "<matplotlib.image.AxesImage at 0x1d7165a4350>"
      ]
     },
     "execution_count": 32,
     "metadata": {},
     "output_type": "execute_result"
    },
    {
     "data": {
      "image/png": "[encoded data removed]",
      "text/plain": [
       "<Figure size 640x480 with 1 Axes>"
      ]
     },
     "metadata": {},
     "output_type": "display_data"
    }
   ],
   "source": [
    "plt.imshow(train_images[30].reshape(28,28), cmap='gray')"
   ]
  },
  {
   "cell_type": "code",
   "execution_count": 33,
   "id": "9feacd49",
   "metadata": {},
   "outputs": [
    {
     "data": {
      "text/plain": [
       "3"
      ]
     },
     "execution_count": 33,
     "metadata": {},
     "output_type": "execute_result"
    }
   ],
   "source": [
    "train_labels[30]"
   ]
  },
  {
   "cell_type": "markdown",
   "id": "ad35f515",
   "metadata": {},
   "source": [
    "# 2.Test extract HOG feature from image"
   ]
  },
  {
   "cell_type": "code",
   "execution_count": 6,
   "id": "c87aa5d8",
   "metadata": {},
   "outputs": [],
   "source": [
    "X_train_reshaped = train_images.reshape(-1, 28, 28)"
   ]
  },
  {
   "cell_type": "code",
   "execution_count": 7,
   "id": "6d051387",
   "metadata": {},
   "outputs": [],
   "source": [
    "X_train_hog = []\n",
    "for img in X_train_reshaped:\n",
    "    features, _ = hog(img, orientations=9, pixels_per_cell=(8, 8), cells_per_block=(2, 2), visualize=True)\n",
    "    X_train_hog.append(features)"
   ]
  },
  {
   "cell_type": "code",
   "execution_count": 8,
   "id": "2ef18341",
   "metadata": {},
   "outputs": [],
   "source": [
    "X_train_hog = np.array(X_train_hog)\n",
    "y_train = np.array(train_labels)"
   ]
  },
  {
   "cell_type": "code",
   "execution_count": 9,
   "id": "d03e7a73",
   "metadata": {},
   "outputs": [],
   "source": [
    "X_test_reshaped = test_images.reshape(-1, 28, 28)"
   ]
  },
  {
   "cell_type": "code",
   "execution_count": 10,
   "id": "42b73741",
   "metadata": {},
   "outputs": [],
   "source": [
    "X_test_hog = []\n",
    "for img in X_test_reshaped:\n",
    "    features, _ = hog(img, orientations=9, pixels_per_cell=(8, 8), cells_per_block=(2, 2), visualize=True)\n",
    "    X_test_hog.append(features)"
   ]
  },
  {
   "cell_type": "code",
   "execution_count": 11,
   "id": "256b8dfc",
   "metadata": {},
   "outputs": [],
   "source": [
    "X_test_hog = np.array(X_test_hog)\n",
    "y_test = np.array(test_labels)"
   ]
  },
  {
   "cell_type": "markdown",
   "id": "aff6fa4e",
   "metadata": {},
   "source": [
    "# 3.Training Process\n"
   ]
  },
  {
   "cell_type": "code",
   "execution_count": 21,
   "id": "7c3b447f",
   "metadata": {},
   "outputs": [
    {
     "data": {
      "text/html": [
       "<style>#sk-container-id-4 {color: black;}#sk-container-id-4 pre{padding: 0;}#sk-container-id-4 div.sk-toggleable {background-color: white;}#sk-container-id-4 label.sk-toggleable__label {cursor: pointer;display: block;width: 100%;margin-bottom: 0;padding: 0.3em;box-sizing: border-box;text-align: center;}#sk-container-id-4 label.sk-toggleable__label-arrow:before {content: \"▸\";float: left;margin-right: 0.25em;color: #696969;}#sk-container-id-4 label.sk-toggleable__label-arrow:hover:before {color: black;}#sk-container-id-4 div.sk-estimator:hover label.sk-toggleable__label-arrow:before {color: black;}#sk-container-id-4 div.sk-toggleable__content {max-height: 0;max-width: 0;overflow: hidden;text-align: left;background-color: #f0f8ff;}#sk-container-id-4 div.sk-toggleable__content pre {margin: 0.2em;color: black;border-radius: 0.25em;background-color: #f0f8ff;}#sk-container-id-4 input.sk-toggleable__control:checked~div.sk-toggleable__content {max-height: 200px;max-width: 100%;overflow: auto;}#sk-container-id-4 input.sk-toggleable__control:checked~label.sk-toggleable__label-arrow:before {content: \"▾\";}#sk-container-id-4 div.sk-estimator input.sk-toggleable__control:checked~label.sk-toggleable__label {background-color: #d4ebff;}#sk-container-id-4 div.sk-label input.sk-toggleable__control:checked~label.sk-toggleable__label {background-color: #d4ebff;}#sk-container-id-4 input.sk-hidden--visually {border: 0;clip: rect(1px 1px 1px 1px);clip: rect(1px, 1px, 1px, 1px);height: 1px;margin: -1px;overflow: hidden;padding: 0;position: absolute;width: 1px;}#sk-container-id-4 div.sk-estimator {font-family: monospace;background-color: #f0f8ff;border: 1px dotted black;border-radius: 0.25em;box-sizing: border-box;margin-bottom: 0.5em;}#sk-container-id-4 div.sk-estimator:hover {background-color: #d4ebff;}#sk-container-id-4 div.sk-parallel-item::after {content: \"\";width: 100%;border-bottom: 1px solid gray;flex-grow: 1;}#sk-container-id-4 div.sk-label:hover label.sk-toggleable__label {background-color: #d4ebff;}#sk-container-id-4 div.sk-serial::before {content: \"\";position: absolute;border-left: 1px solid gray;box-sizing: border-box;top: 0;bottom: 0;left: 50%;z-index: 0;}#sk-container-id-4 div.sk-serial {display: flex;flex-direction: column;align-items: center;background-color: white;padding-right: 0.2em;padding-left: 0.2em;position: relative;}#sk-container-id-4 div.sk-item {position: relative;z-index: 1;}#sk-container-id-4 div.sk-parallel {display: flex;align-items: stretch;justify-content: center;background-color: white;position: relative;}#sk-container-id-4 div.sk-item::before, #sk-container-id-4 div.sk-parallel-item::before {content: \"\";position: absolute;border-left: 1px solid gray;box-sizing: border-box;top: 0;bottom: 0;left: 50%;z-index: -1;}#sk-container-id-4 div.sk-parallel-item {display: flex;flex-direction: column;z-index: 1;position: relative;background-color: white;}#sk-container-id-4 div.sk-parallel-item:first-child::after {align-self: flex-end;width: 50%;}#sk-container-id-4 div.sk-parallel-item:last-child::after {align-self: flex-start;width: 50%;}#sk-container-id-4 div.sk-parallel-item:only-child::after {width: 0;}#sk-container-id-4 div.sk-dashed-wrapped {border: 1px dashed gray;margin: 0 0.4em 0.5em 0.4em;box-sizing: border-box;padding-bottom: 0.4em;background-color: white;}#sk-container-id-4 div.sk-label label {font-family: monospace;font-weight: bold;display: inline-block;line-height: 1.2em;}#sk-container-id-4 div.sk-label-container {text-align: center;}#sk-container-id-4 div.sk-container {/* jupyter's `normalize.less` sets `[hidden] { display: none; }` but bootstrap.min.css set `[hidden] { display: none !important; }` so we also need the `!important` here to be able to override the default hidden behavior on the sphinx rendered scikit-learn.org. See: https://github.com/scikit-learn/scikit-learn/issues/21755 */display: inline-block !important;position: relative;}#sk-container-id-4 div.sk-text-repr-fallback {display: none;}</style><div id=\"sk-container-id-4\" class=\"sk-top-container\"><div class=\"sk-text-repr-fallback\"><pre>SVC()</pre><b>In a Jupyter environment, please rerun this cell to show the HTML representation or trust the notebook. <br />On GitHub, the HTML representation is unable to render, please try loading this page with nbviewer.org.</b></div><div class=\"sk-container\" hidden><div class=\"sk-item\"><div class=\"sk-estimator sk-toggleable\"><input class=\"sk-toggleable__control sk-hidden--visually\" id=\"sk-estimator-id-4\" type=\"checkbox\" checked><label for=\"sk-estimator-id-4\" class=\"sk-toggleable__label sk-toggleable__label-arrow\">SVC</label><div class=\"sk-toggleable__content\"><pre>SVC()</pre></div></div></div></div></div>"
      ],
      "text/plain": [
       "SVC()"
      ]
     },
     "execution_count": 21,
     "metadata": {},
     "output_type": "execute_result"
    }
   ],
   "source": [
    "svm = SVC()\n",
    "svm.fit(X_train_hog, train_labels)"
   ]
  },
  {
   "cell_type": "code",
   "execution_count": 22,
   "id": "1773da21",
   "metadata": {},
   "outputs": [],
   "source": [
    "y_pred = svm.predict(X_test_hog)"
   ]
  },
  {
   "cell_type": "markdown",
   "id": "e70fa0f7",
   "metadata": {},
   "source": [
    "# 4.Predict Test"
   ]
  },
  {
   "cell_type": "code",
   "execution_count": 34,
   "id": "5d34284f",
   "metadata": {},
   "outputs": [
    {
     "data": {
      "image/png": "[encoded data removed]",
      "text/plain": [
       "<Figure size 1500x300 with 8 Axes>"
      ]
     },
     "metadata": {},
     "output_type": "display_data"
    }
   ],
   "source": [
    "def predict(images, targets, sample_size=8, title_text='Digit {}' ):\n",
    "    nsamples = min(sample_size, len(images))\n",
    "    rand_idx = np.random.choice(len(images), nsamples)\n",
    "    images_and_labels = list(zip(images[rand_idx], targets[rand_idx]))\n",
    "\n",
    "    num_rows = 1\n",
    "    img = plt.figure(1, figsize=(15, 3), dpi=100)\n",
    "    for index, (image, label) in enumerate(images_and_labels):\n",
    "        plt.subplot(1, nsamples, index + 1)\n",
    "        plt.axis('off')\n",
    "        plt.imshow(image.reshape(28, 28), cmap='gray')\n",
    "        plt.title(title_text.format(label))\n",
    "\n",
    "    plt.show()\n",
    "\n",
    "\n",
    "predict(test_images, y_pred, sample_size=8)"
   ]
  },
  {
   "cell_type": "markdown",
   "id": "5ab70ba7",
   "metadata": {},
   "source": [
    "# 5.Evaluation Metrics A.Confussion metrics"
   ]
  },
  {
   "cell_type": "code",
   "execution_count": 27,
   "id": "aa65a078",
   "metadata": {},
   "outputs": [],
   "source": [
    "class_names = ['0', '1', '2', '3', '4', '5', '6', '7', '8', '9']"
   ]
  },
  {
   "cell_type": "code",
   "execution_count": 28,
   "id": "22af8c94",
   "metadata": {},
   "outputs": [
    {
     "data": {
      "text/plain": [
       "array([[ 973,    0,    1,    0,    0,    0,    5,    1,    0,    0],\n",
       "       [   1, 1124,    6,    0,    2,    0,    1,    1,    0,    0],\n",
       "       [   2,    0, 1011,    6,    2,    0,    1,    8,    2,    0],\n",
       "       [   2,    2,    8,  979,    0,    2,    0,    4,    6,    7],\n",
       "       [   4,    1,    0,    0,  950,    0,    9,    2,    2,   14],\n",
       "       [   3,    0,    0,   10,    0,  865,    7,    1,    5,    1],\n",
       "       [   6,    2,    1,    0,    2,    4,  940,    0,    2,    1],\n",
       "       [   0,    3,   13,    3,   11,    0,    0,  981,    4,   13],\n",
       "       [   6,    1,    4,   12,    2,    4,    1,    3,  934,    7],\n",
       "       [   2,    3,    0,    5,   11,    4,    0,    4,   13,  967]],\n",
       "      dtype=int64)"
      ]
     },
     "execution_count": 28,
     "metadata": {},
     "output_type": "execute_result"
    }
   ],
   "source": [
    "conf_mat = metrics.confusion_matrix(y_test, y_pred)\n",
    "conf_mat"
   ]
  },
  {
   "cell_type": "code",
   "execution_count": 29,
   "id": "5d91e71a",
   "metadata": {},
   "outputs": [
    {
     "data": {
      "image/png": "[encoded data removed]",
      "text/plain": [
       "<Figure size 640x480 with 1 Axes>"
      ]
     },
     "metadata": {},
     "output_type": "display_data"
    }
   ],
   "source": [
    "fig, ax = plot_confusion_matrix(conf_mat=conf_mat, class_names=class_names)"
   ]
  },
  {
   "cell_type": "markdown",
   "id": "699eb858",
   "metadata": {},
   "source": [
    "# B.Precission"
   ]
  },
  {
   "cell_type": "code",
   "execution_count": 30,
   "id": "54f9e168",
   "metadata": {},
   "outputs": [
    {
     "data": {
      "text/plain": [
       "array([0.97397397, 0.98943662, 0.9683908 , 0.96453202, 0.96938776,\n",
       "       0.98407281, 0.97510373, 0.9761194 , 0.96487603, 0.95742574])"
      ]
     },
     "execution_count": 30,
     "metadata": {},
     "output_type": "execute_result"
    }
   ],
   "source": [
    "precision = metrics.precision_score(y_test, y_pred, average=None)\n",
    "precision"
   ]
  },
  {
   "cell_type": "markdown",
   "id": "d6f922c6",
   "metadata": {},
   "source": [
    "# C.Accuracy"
   ]
  },
  {
   "cell_type": "code",
   "execution_count": 31,
   "id": "0121dbfc",
   "metadata": {},
   "outputs": [
    {
     "data": {
      "text/plain": [
       "0.9724"
      ]
     },
     "execution_count": 31,
     "metadata": {},
     "output_type": "execute_result"
    }
   ],
   "source": [
    "accuracy = metrics.accuracy_score(y_test, y_pred)\n",
    "accuracy"
   ]
  },
  {
   "cell_type": "code",
   "execution_count": null,
   "id": "bcf915b1",
   "metadata": {},
   "outputs": [],
   "source": []
  }
 ],
 "metadata": {
  "kernelspec": {
   "display_name": "Python 3 (ipykernel)",
   "language": "python",
   "name": "python3"
  },
  "language_info": {
   "codemirror_mode": {
    "name": "ipython",
    "version": 3
   },
   "file_extension": ".py",
   "mimetype": "text/x-python",
   "name": "python",
   "nbconvert_exporter": "python",
   "pygments_lexer": "ipython3",
   "version": "3.11.4"
  }
 },
 "nbformat": 4,
 "nbformat_minor": 5
}
